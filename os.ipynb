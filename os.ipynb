{
 "cells": [
  {
   "cell_type": "code",
   "execution_count": 5,
   "metadata": {},
   "outputs": [
    {
     "name": "stdout",
     "output_type": "stream",
     "text": [
      "Training Data Missing Values:\n",
      " Series([], dtype: int64)\n",
      "\n",
      "Test Data Missing Values:\n",
      " Series([], dtype: int64)\n"
     ]
    }
   ],
   "source": [
    "import pandas as pd\n",
    "\n",
    "\n",
    "train_data = pd.read_csv('train.csv')\n",
    "test_data = pd.read_csv('test.csv')\n",
    "\n",
    "\n",
    "missing_values_train = train_data.isnull().sum()\n",
    "missing_values_test = test_data.isnull().sum()\n",
    "\n",
    "print(\"Training Data Missing Values:\\n\", missing_values_train[missing_values_train > 0])\n",
    "print(\"\\nTest Data Missing Values:\\n\", missing_values_test[missing_values_test > 0])\n",
    "\n",
    "\n"
   ]
  },
  {
   "cell_type": "code",
   "execution_count": 6,
   "metadata": {},
   "outputs": [],
   "source": [
    "for column in train_data.columns:\n",
    "    if train_data[column].dtype == 'object':\n",
    "        train_data[column].fillna(train_data[column].mode()[0], inplace=True)\n",
    "        test_data[column].fillna(test_data[column].mode()[0], inplace=True)\n",
    "    else:\n",
    "        train_data[column].fillna(train_data[column].median(), inplace=True)\n",
    "        test_data[column].fillna(test_data[column].median(), inplace=True)"
   ]
  },
  {
   "cell_type": "code",
   "execution_count": 8,
   "metadata": {},
   "outputs": [
    {
     "name": "stderr",
     "output_type": "stream",
     "text": [
      "e:\\anaconda\\Lib\\site-packages\\sklearn\\preprocessing\\_encoders.py:868: FutureWarning: `sparse` was renamed to `sparse_output` in version 1.2 and will be removed in 1.4. `sparse_output` is ignored unless you leave `sparse` to its default value.\n",
      "  warnings.warn(\n"
     ]
    }
   ],
   "source": [
    "from sklearn.preprocessing import OneHotEncoder\n",
    "\n",
    "# 确保数据的数据类型是一致的\n",
    "X_train = X_train.astype(str)\n",
    "X_test = X_test.astype(str)\n",
    "\n",
    "# 明确指定分类特征\n",
    "categorical_features = X_train.select_dtypes(include=['object']).columns.tolist()\n",
    "\n",
    "# 初始化OneHotEncoder\n",
    "encoder = OneHotEncoder(handle_unknown='ignore', sparse=False)\n",
    "\n",
    "# 使用训练数据拟合encoder\n",
    "encoder.fit(X_train[categorical_features])\n",
    "\n",
    "# 对训练和测试数据进行编码\n",
    "X_train_encoded = encoder.transform(X_train[categorical_features])\n",
    "X_test_encoded = encoder.transform(X_test[categorical_features])\n",
    "\n",
    "# 将编码后的数据与原始数据合并\n",
    "X_train = pd.concat([X_train.drop(categorical_features, axis=1), pd.DataFrame(X_train_encoded)], axis=1)\n",
    "X_test = pd.concat([X_test.drop(categorical_features, axis=1), pd.DataFrame(X_test_encoded)], axis=1)\n",
    "\n"
   ]
  },
  {
   "cell_type": "code",
   "execution_count": 9,
   "metadata": {},
   "outputs": [
    {
     "name": "stdout",
     "output_type": "stream",
     "text": [
      "Linear Regression RMSE: 39469.1550526339\n",
      "Random Forest Regression RMSE: 41440.85938693507\n"
     ]
    }
   ],
   "source": [
    "from sklearn.linear_model import LinearRegression\n",
    "from sklearn.ensemble import RandomForestRegressor\n",
    "from sklearn.metrics import mean_squared_error\n",
    "import numpy as np\n",
    "\n",
    "# 线性回归\n",
    "lr = LinearRegression()\n",
    "lr.fit(X_train, y_train)\n",
    "lr_predictions = lr.predict(X_test)\n",
    "lr_rmse = np.sqrt(mean_squared_error(y_test, lr_predictions))\n",
    "\n",
    "# 随机森林回归\n",
    "rf = RandomForestRegressor(n_estimators=100, random_state=42)\n",
    "rf.fit(X_train, y_train)\n",
    "rf_predictions = rf.predict(X_test)\n",
    "rf_rmse = np.sqrt(mean_squared_error(y_test, rf_predictions))\n",
    "\n",
    "print(f\"Linear Regression RMSE: {lr_rmse}\")\n",
    "print(f\"Random Forest Regression RMSE: {rf_rmse}\")\n"
   ]
  }
 ],
 "metadata": {
  "kernelspec": {
   "display_name": "Python 3.11.3 ('base')",
   "language": "python",
   "name": "python3"
  },
  "language_info": {
   "codemirror_mode": {
    "name": "ipython",
    "version": 3
   },
   "file_extension": ".py",
   "mimetype": "text/x-python",
   "name": "python",
   "nbconvert_exporter": "python",
   "pygments_lexer": "ipython3",
   "version": "3.11.3"
  },
  "orig_nbformat": 4,
  "vscode": {
   "interpreter": {
    "hash": "7758e92e9a61d7a3490898707f7eeb937c85e9d1e8d4e877cc6c187218f226d5"
   }
  }
 },
 "nbformat": 4,
 "nbformat_minor": 2
}
